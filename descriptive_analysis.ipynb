{
 "cells": [
  {
   "cell_type": "code",
   "execution_count": 1,
   "id": "4635252b-97b4-4374-b295-3eed1de6d3f2",
   "metadata": {},
   "outputs": [],
   "source": [
    "import pandas as pd\n",
    "import numpy as np\n",
    "import matplotlib.pyplot as plt\n",
    "import seaborn as sns"
   ]
  },
  {
   "cell_type": "code",
   "execution_count": 3,
   "id": "3278903d-8cf5-4bd6-a3e1-97435156a41e",
   "metadata": {},
   "outputs": [],
   "source": [
    "# load dataset\n",
    "data = pd.read_csv('group_22.csv')"
   ]
  },
  {
   "cell_type": "code",
   "execution_count": 5,
   "id": "81c126e7-739a-4f5a-9a68-7d25879ff5db",
   "metadata": {},
   "outputs": [
    {
     "name": "stdout",
     "output_type": "stream",
     "text": [
      "Shape: (3000, 49)\n",
      "Número de samples: 3000\n",
      "Número de features: 49\n"
     ]
    }
   ],
   "source": [
    "# overview da estrutura básica\n",
    "\n",
    "print(f\"Shape: {data.shape}\")\n",
    "print(f\"Número de samples: {data.shape[0]}\")\n",
    "print(f\"Número de features: {data.shape[1]}\")"
   ]
  },
  {
   "cell_type": "code",
   "execution_count": 7,
   "id": "8d6fdbca-dec7-4975-b165-1e402269a367",
   "metadata": {},
   "outputs": [
    {
     "name": "stdout",
     "output_type": "stream",
     "text": [
      "duration_1                       float64\n",
      "duration_2                       float64\n",
      "duration_3                       float64\n",
      "duration_4                       float64\n",
      "duration_5                       float64\n",
      "loudness_level                   float64\n",
      "popularity_level                 float64\n",
      "tempo_class                      float64\n",
      "time_signature                   float64\n",
      "key_mode                         float64\n",
      "artist_song_count                float64\n",
      "album_freq                       float64\n",
      "movement_index                   float64\n",
      "intensity_level                  float64\n",
      "verbal_density                   float64\n",
      "purity_score                     float64\n",
      "positivity_index                 float64\n",
      "activity_rate                    float64\n",
      "loudness_intensity               float64\n",
      "happy_dance                      float64\n",
      "acoustics_instrumental           float64\n",
      "artists_avg_popularity           float64\n",
      "tempo_vs_genre                   float64\n",
      "energy_rank_pct                  float64\n",
      "loud_energy_ratio                float64\n",
      "mood_pca                         float64\n",
      "mood_cluster                     float64\n",
      "acoustic_valence_mood_cluster    float64\n",
      "explicit                         float64\n",
      "signal_strength                  float64\n",
      "mode_indicator                   float64\n",
      "focus_factor                      object\n",
      "ambient_level                    float64\n",
      "key_sin                          float64\n",
      "key_cos                          float64\n",
      "duration_log                     float64\n",
      "duration_log_z                   float64\n",
      "time_signature_class_boolean     float64\n",
      "loudness_yeo                     float64\n",
      "is_instrumental                  float64\n",
      "is_dance_hit                     float64\n",
      "temp_zscore                      float64\n",
      "resonance_factor                 float64\n",
      "timbre_index                     float64\n",
      "echo_constant                      int64\n",
      "distorted_movement               float64\n",
      "signal_power                     float64\n",
      "target_class                      object\n",
      "target_regression                float64\n",
      "dtype: object\n"
     ]
    }
   ],
   "source": [
    "# verificar nomes e data types -- não há datatypes inválidos\n",
    "print(data.dtypes)"
   ]
  },
  {
   "cell_type": "code",
   "execution_count": 13,
   "id": "db367174-db78-4a2b-9078-8abce42f846e",
   "metadata": {},
   "outputs": [
    {
     "name": "stdout",
     "output_type": "stream",
     "text": [
      "Empty DataFrame\n",
      "Columns: [Contagem de valores em falta, Percentagem de valores em falta]\n",
      "Index: []\n"
     ]
    }
   ],
   "source": [
    "# análise de valores em falta\n",
    "\n",
    "missing_data = data.isnull().sum()\n",
    "missing_percent = (missing_data / len(data)) * 100\n",
    "missing_summary = pd.DataFrame({'Contagem de valores em falta': missing_data, 'Percentagem de valores em falta': missing_percent})\n",
    "\n",
    "print(missing_summary[missing_summary['Contagem de valores em falta'] > 0])"
   ]
  },
  {
   "cell_type": "code",
   "execution_count": 15,
   "id": "7a4d0099-29fb-4194-a06d-63863925ffd6",
   "metadata": {},
   "outputs": [
    {
     "name": "stdout",
     "output_type": "stream",
     "text": [
      "Número de linhas duplicadas: 0\n"
     ]
    }
   ],
   "source": [
    "# verificar se existem linhas duplicadas -- duplicates afetam negativamente a análise ao inflacionar padrões\n",
    "print(f\"Número de linhas duplicadas: {data.duplicated().sum()}\")"
   ]
  },
  {
   "cell_type": "code",
   "execution_count": 17,
   "id": "67aac698-76cd-42c9-ab0e-f78a32f8b977",
   "metadata": {},
   "outputs": [
    {
     "name": "stdout",
     "output_type": "stream",
     "text": [
      "Sumário das features numéricas - quantidade, média, ----\n",
      "        duration_1   duration_2   duration_3   duration_4   duration_5  \\\n",
      "count  3000.000000  3000.000000  3000.000000  3000.000000  3000.000000   \n",
      "mean      0.067333     0.171333     0.319000     0.426333     0.016000   \n",
      "std       0.250640     0.376863     0.466167     0.494626     0.125496   \n",
      "min       0.000000     0.000000     0.000000     0.000000     0.000000   \n",
      "25%       0.000000     0.000000     0.000000     0.000000     0.000000   \n",
      "50%       0.000000     0.000000     0.000000     0.000000     0.000000   \n",
      "75%       0.000000     0.000000     1.000000     1.000000     0.000000   \n",
      "max       1.000000     1.000000     1.000000     1.000000     1.000000   \n",
      "\n",
      "       loudness_level  popularity_level  tempo_class  time_signature  \\\n",
      "count     3000.000000       3000.000000  3000.000000     3000.000000   \n",
      "mean         1.714000          2.043000     1.018000        0.076971   \n",
      "std          1.347643          0.976457     0.247042        0.783108   \n",
      "min          0.000000          0.000000     0.000000       -6.712656   \n",
      "25%          1.000000          1.000000     1.000000        0.221824   \n",
      "50%          2.000000          2.000000     1.000000        0.221824   \n",
      "75%          3.000000          3.000000     1.000000        0.221824   \n",
      "max          4.000000          4.000000     3.000000        2.533318   \n",
      "\n",
      "          key_mode  ...  loudness_yeo  is_instrumental  is_dance_hit  \\\n",
      "count  3000.000000  ...   3000.000000      3000.000000   3000.000000   \n",
      "mean     -0.019777  ...      0.022585         0.132000      0.005333   \n",
      "std       1.005031  ...      0.958395         0.338547      0.072847   \n",
      "min      -1.511882  ...     -2.688960         0.000000      0.000000   \n",
      "25%      -0.920961  ...     -0.485051         0.000000      0.000000   \n",
      "50%      -0.076786  ...      0.040411         0.000000      0.000000   \n",
      "75%       0.767388  ...      0.504592         0.000000      0.000000   \n",
      "max       1.611562  ...     28.711253         1.000000      1.000000   \n",
      "\n",
      "       temp_zscore  resonance_factor  timbre_index  echo_constant  \\\n",
      "count  3000.000000       3000.000000   3000.000000         3000.0   \n",
      "mean     -0.036207          0.013317      0.498885            1.0   \n",
      "std       0.798380          0.983191      0.286843            0.0   \n",
      "min      -2.278405         -3.241267      0.001081            1.0   \n",
      "25%      -0.540798         -0.661996      0.252813            1.0   \n",
      "50%      -0.004993          0.026488      0.495487            1.0   \n",
      "75%       0.259148          0.668748      0.742203            1.0   \n",
      "max       3.056555          3.852731      0.999666            1.0   \n",
      "\n",
      "       distorted_movement  signal_power  target_regression  \n",
      "count         3000.000000   3000.000000        3000.000000  \n",
      "mean             0.014455      0.632986           0.312526  \n",
      "std              0.986294      0.240203           0.772281  \n",
      "min             -3.266071      0.011900          -1.490205  \n",
      "25%             -0.605332      0.455000          -0.234874  \n",
      "50%              0.099108      0.690000           0.482459  \n",
      "75%              0.732960      0.824250           0.885958  \n",
      "max              2.352164      0.999000           2.544789  \n",
      "\n",
      "[8 rows x 47 columns]\n",
      "\n",
      "\n"
     ]
    }
   ],
   "source": [
    "# análise de features numericas e categoricas separadamente\n",
    "numerical_cols = data.select_dtypes(include=[np.number]).columns.tolist()\n",
    "categorical_cols = data.select_dtypes(include=['object', 'category']).columns.tolist()\n",
    "\n",
    "# numerical\n",
    "print(\"Sumário das features numéricas - quantidade, média, dispersão, intervalo de valores, distribuição e outliers\")\n",
    "numerical_summary = df[numerical_cols].describe()\n",
    "print(numerical_summary)\n",
    "print(\"\\n\")"
   ]
  },
  {
   "cell_type": "code",
   "execution_count": 18,
   "id": "543e3c1a-76aa-422d-b347-bcf5a3aa84a9",
   "metadata": {},
   "outputs": [
    {
     "name": "stdout",
     "output_type": "stream",
     "text": [
      "                                Skewness    Kurtosis\n",
      "duration_1                      3.454796    9.942242\n",
      "duration_2                      1.745388    1.047077\n",
      "duration_3                      0.777064   -1.397103\n",
      "duration_4                      0.298067   -1.912432\n",
      "duration_5                      7.718538   57.614238\n",
      "loudness_level                  0.321106   -1.036907\n",
      "popularity_level               -0.303235   -1.356962\n",
      "tempo_class                     1.241528   15.261093\n",
      "time_signature                 -4.964392   36.835497\n",
      "key_mode                        0.029530   -1.290927\n",
      "artist_song_count               3.690076   12.898883\n",
      "album_freq                      7.635744   93.513645\n",
      "movement_index                 -0.449840   -0.024884\n",
      "intensity_level                -1.183599    2.599923\n",
      "verbal_density                  4.226974   24.413565\n",
      "purity_score                    0.939049   -0.675281\n",
      "positivity_index                0.355152   -0.792055\n",
      "activity_rate                   0.602400    1.020433\n",
      "loudness_intensity             -0.268382    0.813482\n",
      "happy_dance                     0.657764   -0.289677\n",
      "acoustics_instrumental          5.782624   36.092749\n",
      "artists_avg_popularity         -0.560451   -0.255113\n",
      "tempo_vs_genre                  0.630730    1.018077\n",
      "energy_rank_pct                -0.074298   -1.164678\n",
      "loud_energy_ratio              12.735360  298.015314\n",
      "mood_pca                       -0.019631   -0.639350\n",
      "mood_cluster                    0.262666   -1.414251\n",
      "acoustic_valence_mood_cluster  -0.196323   -1.126735\n",
      "explicit                        3.948568   13.600257\n",
      "signal_strength                -0.594853   -0.689331\n",
      "mode_indicator                 -0.610917   -1.627866\n",
      "ambient_level                   2.565220    8.034237\n",
      "key_sin                         0.013248   -1.407237\n",
      "key_cos                        -0.113248   -1.610261\n",
      "duration_log                    0.297792    1.352555\n",
      "duration_log_z                  0.297792    1.352555\n",
      "time_signature_class_boolean   -7.892734   60.335475\n",
      "loudness_yeo                    9.726853  274.281215\n",
      "is_instrumental                 2.175446    2.734386\n",
      "is_dance_hit                   13.590071  182.811906\n",
      "temp_zscore                     0.602400    1.020433\n",
      "resonance_factor                0.036424   -0.076573\n",
      "timbre_index                    0.021585   -1.189761\n",
      "echo_constant                   0.000000    0.000000\n",
      "distorted_movement             -0.404126   -0.147713\n",
      "signal_power                   -0.594853   -0.689331\n",
      "target_regression              -0.641954   -0.258312\n"
     ]
    }
   ],
   "source": [
    "# skewness and kurtosis\n",
    "# skewness mede a assimetria da distribuição (0 - distribuição normal | positvo - pico tende para a esquerda | negativo - pico tende para a direita\n",
    "# kurtosis descreve a distribuição dos dados à volta da média (positivo - mais outliers | negativo - menos outliers)\n",
    "\n",
    "skewness = data[numerical_cols].skew()\n",
    "kurtosis = data[numerical_cols].kurtosis()\n",
    "\n",
    "additional_stats = pd.DataFrame({\n",
    "    'Skewness': skewness,\n",
    "    'Kurtosis': kurtosis\n",
    "})\n",
    "print(additional_stats)"
   ]
  },
  {
   "cell_type": "code",
   "execution_count": 27,
   "id": "bfc5dc45-7c4d-43cb-8883-946e60cdd3a1",
   "metadata": {},
   "outputs": [
    {
     "name": "stdout",
     "output_type": "stream",
     "text": [
      "\n",
      "=== CATEGORICAL FEATURES SUMMARY ===\n",
      "\n",
      "--- Analyzing: focus_factor ---\n",
      "This feature has 1555 different categories\n",
      "Most common values and their counts:\n",
      "focus_factor\n",
      "0.0        735\n",
      "0.00255     11\n",
      "0,00006     10\n",
      "0.896        9\n",
      "0.865        9\n",
      "Name: count, dtype: int64\n",
      "As percentages:\n",
      "focus_factor\n",
      "0.0        24.50\n",
      "0.00255     0.37\n",
      "0,00006     0.33\n",
      "0.896       0.30\n",
      "0.865       0.30\n",
      "Name: proportion, dtype: float64\n",
      "\n",
      "--- Analyzing: target_class ---\n",
      "This feature has 3 different categories\n",
      "Most common values and their counts:\n",
      "target_class\n",
      "class_1     1000\n",
      "class_18    1000\n",
      "class_24    1000\n",
      "Name: count, dtype: int64\n",
      "As percentages:\n",
      "target_class\n",
      "class_1     33.33\n",
      "class_18    33.33\n",
      "class_24    33.33\n",
      "Name: proportion, dtype: float64\n"
     ]
    }
   ],
   "source": [
    "# sumário das características categóricas\n",
    "\n",
    "print(\"\\n=== CATEGORICAL FEATURES SUMMARY ===\")\n",
    "\n",
    "# Let's look at each categorical feature one by one\n",
    "for col in categorical_cols:\n",
    "    print(f\"\\n--- Analyzing: {col} ---\")\n",
    "    \n",
    "    # Count how many different categories exist\n",
    "    num_categories = df[col].nunique()\n",
    "    print(f\"This feature has {num_categories} different categories\")\n",
    "    \n",
    "    # Show the most common categories and how often they appear\n",
    "    print(\"Most common values and their counts:\")\n",
    "    value_counts = df[col].value_counts()\n",
    "    print(value_counts.head())  # Show top 5 most frequent\n",
    "    \n",
    "    # Also show percentages to understand distribution\n",
    "    print(\"As percentages:\")\n",
    "    percentages = df[col].value_counts(normalize=True) * 100\n",
    "    print(percentages.head().round(2))"
   ]
  },
  {
   "cell_type": "code",
   "execution_count": 30,
   "id": "dd03b929-f072-4750-b639-171bd9d2775c",
   "metadata": {},
   "outputs": [
    {
     "name": "stdout",
     "output_type": "stream",
     "text": [
      "As categorias estão perfeitamente balanceadas, o que indica que o modelo não será biased\n"
     ]
    }
   ],
   "source": [
    "print(\"As categorias estão perfeitamente balanceadas, o que indica que o modelo não será biased\")"
   ]
  },
  {
   "cell_type": "code",
   "execution_count": 31,
   "id": "e06fad96-840a-4c66-95d8-f933758fcf35",
   "metadata": {},
   "outputs": [
    {
     "name": "stdout",
     "output_type": "stream",
     "text": [
      "\n",
      "📈 REGRESSION TASK: Predicting Popularity Score\n",
      "Popularity Score Statistics:\n",
      "  Average: 0.31\n",
      "  Range: -1.49 to 2.54\n",
      "  Standard Deviation: 0.77\n",
      "\n",
      "OUTLIER CHECK:\n",
      "Found 0 songs with unusual popularity scores\n",
      "That's 0.0% of our data\n"
     ]
    }
   ],
   "source": [
    "if 'target_regression' in data.columns:\n",
    "    print(\"\\n📈 REGRESSION TASK: Predicting Popularity Score\")\n",
    "    \n",
    "    # Basic statistics about the popularity scores\n",
    "    popularity_stats = data['target_regression'].describe()\n",
    "    print(\"Popularity Score Statistics:\")\n",
    "    print(f\"  Average: {popularity_stats['mean']:.2f}\")\n",
    "    print(f\"  Range: {popularity_stats['min']:.2f} to {popularity_stats['max']:.2f}\")\n",
    "    print(f\"  Standard Deviation: {popularity_stats['std']:.2f}\")\n",
    "    \n",
    "    # Check for weird values (outliers)\n",
    "    Q1 = data['target_regression'].quantile(0.25)  # 25th percentile\n",
    "    Q3 = data['target_regression'].quantile(0.75)  # 75th percentile\n",
    "    IQR = Q3 - Q1  # Middle 50% range\n",
    "    \n",
    "    lower_bound = Q1 - 1.5 * IQR\n",
    "    upper_bound = Q3 + 1.5 * IQR\n",
    "    \n",
    "    # Find songs with unusually high or low popularity\n",
    "    outliers = data[(data['target_regression'] < lower_bound) | \n",
    "                  (data['target_regression'] > upper_bound)]\n",
    "    \n",
    "    print(f\"\\nOUTLIER CHECK:\")\n",
    "    print(f\"Found {len(outliers)} songs with unusual popularity scores\")\n",
    "    print(f\"That's {len(outliers)/len(df)*100:.1f}% of our data\")\n",
    "    \n",
    "    # Why care about outliers?\n",
    "    if len(outliers) > 0:\n",
    "        print(\"NOTE: Outliers can make our regression models less accurate\")"
   ]
  },
  {
   "cell_type": "code",
   "execution_count": null,
   "id": "5b938406-ae5c-4ad8-9524-ddcb1ea7c42c",
   "metadata": {},
   "outputs": [],
   "source": []
  }
 ],
 "metadata": {
  "kernelspec": {
   "display_name": "Python 3 (ipykernel)",
   "language": "python",
   "name": "python3"
  },
  "language_info": {
   "codemirror_mode": {
    "name": "ipython",
    "version": 3
   },
   "file_extension": ".py",
   "mimetype": "text/x-python",
   "name": "python",
   "nbconvert_exporter": "python",
   "pygments_lexer": "ipython3",
   "version": "3.11.0"
  }
 },
 "nbformat": 4,
 "nbformat_minor": 5
}
